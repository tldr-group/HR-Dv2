{
 "cells": [
  {
   "cell_type": "code",
   "execution_count": 10,
   "metadata": {},
   "outputs": [],
   "source": [
    "from skimage.color import label2rgb\n",
    "from scipy.ndimage import zoom\n",
    "from skimage.transform import resize\n",
    "import matplotlib.pyplot as plt\n",
    "from os import getcwd\n",
    "\n",
    "from tifffile import imread\n",
    "\n",
    "import numpy as np\n",
    "\n",
    "\n",
    "examples = [\"Frame5_4.6x.tiff\", # lighter\n",
    "            \"Box13_P1_JK_4600x_0118.tiff\", # weird shape\n",
    "            \"Box13_P1_JK_4600x_0103.tiff\", \n",
    "            \"Box13_P1_JK_4600x_0099.tiff\",\n",
    "            \"Box13_O2_JK_4600x_0004.tiff\", # darker\n",
    "            ]\n",
    "\n",
    "PREFIX = \"\"\n",
    "MASK_SUFFIX = \"_segmentation.tifnomalized.tif\"\n",
    "\n",
    "#PRED_FOLDERS = [\"masks\", \"preds/dv2_out\", \"preds/rf_out_no_crf\"]\n",
    "PRED_FOLDERS = [\"masks\", \"preds/classical_crf\", \"preds/FeatUp_crf\", \"preds/bilinear_trained_sigma_0_crf\", \"preds/DINO-S-8_crf\", \"preds/DINOv2-S-14_crf\", \"preds/hybrid_crf\"]\n",
    "# PRED_FOLDERS = [\"masks\", \"preds/classical_\", \"preds/FeatUp_\", \"preds/bilinear_trained_sigma_0_\", \"preds/DINO-S-8_\", \"preds/DINOv2-S-14_\", \"preds/hybrid_\"]\n",
    "# PRED_FOLDERS = [\"masks\", \"preds/classical_\", \"preds/hybrid_crf\"]\n",
    "\n",
    "color_list = [[255, 255, 255], [44, 160, 44], [255, 127, 14], [31, 119, 180]]\n",
    "COLORS = np.array(color_list) / 255.0\n",
    "\n",
    "def remap_label_arr(arr: np.ndarray) -> np.ndarray:\n",
    "    unq_vals = sorted(np.unique(arr))\n",
    "    #div_val = unq_vals[1] if unq_vals[0] == 0 else unq_vals[0]\n",
    "    div_val = unq_vals[-1] - unq_vals[-2]\n",
    "    return (arr // div_val) - 1"
   ]
  },
  {
   "cell_type": "code",
   "execution_count": 11,
   "metadata": {},
   "outputs": [],
   "source": [
    "%%capture\n",
    "fig, axs = plt.subplots(nrows=len(PRED_FOLDERS), ncols=len(examples))\n",
    "\n",
    "fig.set_size_inches(5 * len(examples), 5 * len(PRED_FOLDERS))\n",
    "plt.rcParams[\"font.family\"] = \"serif\"\n",
    "#titles = [\"Ground Truth\", \"Deep Features\", \"Classical Features\"]\n",
    "titles = [\"Ground Truth\", \"Classical\", \"FeatUp\", \"Dv2-S-14 (bilinear)\", \"Ours (D-S-8)\", \"Ours (Dv2-S-14)\", \"Ours (Hybrid)\"]\n",
    "#titles = [\"Ground Truth\", \"Classical\", \"Ours (Hybrid)\"]\n",
    "\n",
    "for col, fname in enumerate(examples):\n",
    "    original = imread(f\"data/{fname[:-1]}\")\n",
    "    \n",
    "\n",
    "    for row, pred_folder in enumerate(PRED_FOLDERS):\n",
    "        ax = axs[row, col]\n",
    "\n",
    "        if (col == 0):\n",
    "            ax.set_ylabel(titles[row], fontsize=36)\n",
    "\n",
    "        suffix = MASK_SUFFIX if row == 0 else \"\"\n",
    "        \n",
    "        if row == 0:\n",
    "            real_fname = fname[:-1]\n",
    "        else:\n",
    "            real_fname = fname\n",
    "\n",
    "        low_res_data = imread(f\"{pred_folder}/{real_fname}{suffix}\")\n",
    "        low_res_data = remap_label_arr(low_res_data)\n",
    "        \n",
    "        data = resize(low_res_data, (1024, 1024), preserve_range=True) if row > 0 else low_res_data\n",
    "        data = data.astype(np.uint8)\n",
    "        overlay = label2rgb(data, original, colors=COLORS[1:], alpha=0.4, bg_label=-1)\n",
    "        \n",
    "        ax.imshow(overlay)\n",
    "        ax.set_xticks([])\n",
    "        ax.set_yticks([])\n",
    "        #ax.set_axis_off()\n",
    "plt.tight_layout()\n",
    "\n",
    "name = 'full_crf'\n",
    "plt.savefig(f\"figures/pred_comparison_{name}.png\", bbox_inches=\"tight\")"
   ]
  },
  {
   "cell_type": "code",
   "execution_count": 3,
   "metadata": {},
   "outputs": [],
   "source": [
    "%%capture\n",
    "train_stack = imread(\"training_data/train_stack_small.tif\")\n",
    "greyscale_labels = imread(\"training_data/wss_train_labels.tiff\").astype(np.int32)\n",
    "\n",
    "# print(greyscale_labels.shape, greyscale_labels.dtype)\n",
    "\n",
    "# color_list = [[255, 255, 255,], [31, 119, 180], [255, 127, 14],  [44, 160, 44]]\n",
    "# COLORS = np.array(color_list) / 255.0\n",
    "\n",
    "r, c = 2, 3\n",
    "fig, axs = plt.subplots(nrows=r, ncols=c)\n",
    "fig.set_size_inches(24, 16)\n",
    "for i, arr in enumerate(train_stack):\n",
    "    x, y = i % c, i // c\n",
    "    ax = axs[y, x]\n",
    "    greyscale_label = greyscale_labels[i]\n",
    "    label = remap_label_arr(greyscale_label)\n",
    "    print(np.unique(label))\n",
    "    if i == 5:\n",
    "        label[0, 0] = 0\n",
    "    #    label  = np.where(label == 0, 0, labels_arr[-1])\n",
    "    img = label2rgb(label, arr, colors=COLORS[1:], bg_label=-1, alpha=0.4)\n",
    "    ax.imshow(img)\n",
    "\n",
    "    ax.set_axis_off()\n",
    "plt.tight_layout()\n",
    "plt.savefig(f\"figures/labels.png\", bbox_inches=\"tight\")"
   ]
  },
  {
   "cell_type": "code",
   "execution_count": 4,
   "metadata": {},
   "outputs": [
    {
     "data": {
      "text/plain": [
       "array([[ 1.   ,  0.799,  0.349,  0.136,  0.102],\n",
       "       [ 2.   ,  0.778,  0.38 ,  0.158,  0.102],\n",
       "       [ 4.   ,  0.799,  0.393,  0.141,  0.103],\n",
       "       [ 8.   ,  0.827,  0.398,  0.126,  0.112],\n",
       "       [16.   ,  0.858,  0.407,  0.115,  0.126]])"
      ]
     },
     "execution_count": 4,
     "metadata": {},
     "output_type": "execute_result"
    }
   ],
   "source": [
    "data = np.genfromtxt(\"figures/scaling.csv\", delimiter=\",\")[1:]\n",
    "x = data[:, 0]\n",
    "dv2_miou = data[:, 1]\n",
    "dv2_std = data[:, 3]\n",
    "\n",
    "rf_miou = data[:, 2]\n",
    "rf_std = data[:, 4]\n",
    "data"
   ]
  },
  {
   "cell_type": "code",
   "execution_count": 5,
   "metadata": {},
   "outputs": [],
   "source": [
    "def format_plot(ax, title: str, xlabel: str, ylabel: str, title_fontsize: int, label_fontsize: int, tick_fontsize: int, legend_fontsize: int ) -> None:\n",
    "    plt.rcParams[\"font.family\"] = \"serif\"\n",
    "    ax.set_xlabel(xlabel, fontsize=label_fontsize)\n",
    "    ax.set_ylabel(ylabel, fontsize=label_fontsize)\n",
    "    ax.tick_params(axis='both', labelsize=tick_fontsize)\n",
    "    ax.set_title(title, fontsize=title_fontsize)\n",
    "    ax.legend(fontsize=legend_fontsize)"
   ]
  },
  {
   "cell_type": "code",
   "execution_count": 6,
   "metadata": {},
   "outputs": [],
   "source": [
    "%%capture\n",
    "fig = plt.figure(2) #axs = plt.subplots(1, 2)\n",
    "fig.set_size_inches(16, 16)\n",
    "\n",
    "RED = '#d00000'\n",
    "BLUE = '#1e74fd'\n",
    "plt.errorbar(x, dv2_miou, dv2_std, label=\"Deep Features\", marker='.', lw=6, ms=30, ecolor=RED, color=RED)\n",
    "plt.errorbar(x, rf_miou, rf_std, label=\"Classical Features\", marker='.', lw=6, ms=30)\n",
    "format_plot(fig.gca(), \"\", \"# labelled micrographs\", \"Class-averaged mIoU\", 20, 32, 24, 24)"
   ]
  }
 ],
 "metadata": {
  "kernelspec": {
   "display_name": ".venv",
   "language": "python",
   "name": "python3"
  },
  "language_info": {
   "codemirror_mode": {
    "name": "ipython",
    "version": 3
   },
   "file_extension": ".py",
   "mimetype": "text/x-python",
   "name": "python",
   "nbconvert_exporter": "python",
   "pygments_lexer": "ipython3",
   "version": "3.10.14"
  }
 },
 "nbformat": 4,
 "nbformat_minor": 2
}
